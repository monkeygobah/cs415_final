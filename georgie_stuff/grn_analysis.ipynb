{
 "cells": [
  {
   "attachments": {},
   "cell_type": "markdown",
   "metadata": {},
   "source": [
    "# Main Script"
   ]
  },
  {
   "cell_type": "code",
   "execution_count": 8,
   "metadata": {},
   "outputs": [],
   "source": [
    "import cv2\n",
    "import numpy as np\n",
    "import matplotlib.pyplot as plt\n",
    "import pandas as pd\n",
    "import os\n",
    "import utils\n",
    "import models\n",
    "import process\n",
    "import pickle"
   ]
  },
  {
   "cell_type": "markdown",
   "metadata": {},
   "source": []
  },
  {
   "cell_type": "code",
   "execution_count": 9,
   "metadata": {},
   "outputs": [],
   "source": [
    "\"\"\" \n",
    "SET UP EXPERIMENTAL DESIGN HERE\n",
    "Choose if you want to load data directly in from pickle file or make dicts by starting feature extraction\n",
    "\"\"\"\n",
    "make_dicts = False\n",
    "want_to_pickle = False"
   ]
  },
  {
   "cell_type": "code",
   "execution_count": 10,
   "metadata": {},
   "outputs": [],
   "source": [
    "if make_dicts:\n",
    "    path = '/Users/georgienahass/Desktop/fall_classes_PhD/CS415/clean_images'\n",
    "    data_train_loaded, data_test_loaded = process.build_dictionaries(path)\n",
    "    if want_to_pickle:\n",
    "        process.pickle_out(data_train_loaded, data_test_loaded)\n",
    "else:\n",
    "    data_train_loaded, data_test_loaded = process.pickle_in()"
   ]
  },
  {
   "attachments": {},
   "cell_type": "markdown",
   "metadata": {},
   "source": [
    "### Run the actual experiments. See documentation in other files for details on arguments"
   ]
  },
  {
   "cell_type": "code",
   "execution_count": 11,
   "metadata": {},
   "outputs": [
    {
     "name": "stdout",
     "output_type": "stream",
     "text": [
      "3\n",
      "KMeans(n_clusters=3, n_init='auto', random_state=42)\n",
      "1825365\n",
      "accuracy: 0.5413533834586466\n",
      "5\n",
      "KMeans(n_clusters=5, n_init='auto', random_state=42)\n",
      "1825365\n",
      "accuracy: 0.5413533834586466\n",
      "10\n",
      "KMeans(n_clusters=10, n_init='auto', random_state=42)\n",
      "1825365\n",
      "accuracy: 0.5413533834586466\n",
      "20\n",
      "KMeans(n_clusters=20, n_init='auto', random_state=42)\n",
      "1825365\n",
      "accuracy: 0.5413533834586466\n",
      "100\n"
     ]
    }
   ],
   "source": [
    "\n",
    "training_stacked, train_labels = utils.prepare_data(data_train_loaded, extractor_type='sift')\n",
    "k_means_model, accuracies, performance_svc =  models.k_means(np.array(training_stacked), train_labels, data_train_loaded, data_test_loaded,  True, False )"
   ]
  },
  {
   "cell_type": "code",
   "execution_count": null,
   "metadata": {},
   "outputs": [],
   "source": []
  },
  {
   "cell_type": "code",
   "execution_count": null,
   "metadata": {},
   "outputs": [],
   "source": []
  },
  {
   "cell_type": "code",
   "execution_count": null,
   "metadata": {},
   "outputs": [],
   "source": [
    "\n",
    "# accuracies = {}  \n",
    "\n",
    "# for k in k_list:\n",
    "#     k=int(k)\n",
    "#     print(k)\n",
    "#     # Perform k-means on the dataset\n",
    "#     # Define criteria = ( type, max_iter = 10 , epsilon = 1.0 )\n",
    "#     criteria = (cv2.TERM_CRITERIA_EPS + cv2.TERM_CRITERIA_MAX_ITER, 10, 1.0)\n",
    "#     # Set flags (Just to avoid line break in the code)\n",
    "#     flags = cv2.KMEANS_RANDOM_CENTERS\n",
    "#     # Apply KMeans with number of centers, k=3\n",
    "#     compactness,labels,centers = cv2.kmeans(sift_training_stacked,k,None,criteria,10,flags)\n",
    "    \n",
    "#     # Determine majority label for each cluster- first make a blank dictionary with k subdicts \n",
    "#     cluster_lists = {i: {'healthy': 0, 'tb': 0} for i in range(k)}\n",
    "    \n",
    "#     # iterate through all of the labels from k means\n",
    "#     for idx, label in enumerate(labels):\n",
    "#         # find the associated ground truth label\n",
    "#         gt = sift_train_labels[idx]\n",
    "        \n",
    "#         # count number of correct predictions in each cluster\n",
    "#         if gt == 0:\n",
    "#             cluster_lists[label[0]]['healthy'] += 1\n",
    "#         else:\n",
    "#             cluster_lists[label[0]]['tb'] += 1\n",
    "\n",
    "#     # assign majority labels to all of the clusters\n",
    "#     majority_labels = {}\n",
    "#     for cluster, counts in cluster_lists.items():\n",
    "#         if counts['healthy'] > counts['tb']:\n",
    "#             majority_labels[cluster] = 0\n",
    "#         else:\n",
    "#             majority_labels[cluster] = 1\n",
    "                \n",
    "#     # Evaluate the testing data using the clusters with a given K\n",
    "#     correct_predictions = 0\n",
    "    \n",
    "#     correct_predictions = 0\n",
    "#     for idx, image_descriptors in enumerate(data_test['sift']):  \n",
    "#         # Loop over the list of descriptors for each image\n",
    "#         image_labels = [assign_label_to_descriptor(desc, centers, majority_labels) for desc in image_descriptors]\n",
    "        \n",
    "#         # Assign the majority label to the image\n",
    "#         predicted_label = max(image_labels, key=image_labels.count)\n",
    "        \n",
    "#         # grab the ground truth label from initial labels and compare\n",
    "#         ground_truth = data_test['label'][idx]\n",
    "#         if predicted_label == ground_truth:\n",
    "#             correct_predictions += 1\n",
    "    \n",
    "    \n",
    "#     accuracy = correct_predictions / len(data_test['sift'])\n",
    "#     print(accuracy)\n",
    "#     accuracies[k]=accuracy\n",
    "        \n",
    "        \n",
    "# plt.plot(list(accuracies.keys()), list(accuracies.values()), '-o')\n",
    "# plt.xlabel('Number of Clusters (k)')\n",
    "# plt.ylabel('Accuracy')\n",
    "# plt.title('Accuracy vs. Number of Clusters')\n",
    "# plt.savefig('k_results.png')\n",
    "# plt.show()\n"
   ]
  },
  {
   "cell_type": "code",
   "execution_count": null,
   "metadata": {},
   "outputs": [],
   "source": [
    "                # HCD tuning\n",
    "                # blocks = [10, 15,20,30, 50]\n",
    "                # ks = [3,5,11,15,21]\n",
    "                # for bs in blocks:\n",
    "                #     for k_size in ks:            \n",
    "                #         print(bs, k_size)\n",
    "                #         harris = harris_detection(cont_image, blocksize=bs, ksize=k_size )\n",
    "                #         print(harris.nonzero())\n",
    "                #         # plot hcd on color image\n",
    "                #         rgb_img = cv2.cvtColor(cont_image,cv2.COLOR_GRAY2BGR)\n",
    "                #         # rgb_img[harris > 0.01 * harris.max()] = [0,0,255]\n",
    "                #         lower_percentile = np.percentile(harris, 99.7)   # Change 1 to your desired lower percentile\n",
    "                #         upper_percentile = np.percentile(harris, 99.9)  # Change 20 to your desired upper percentile\n",
    "\n",
    "                #         # Find coordinates of strong corners\n",
    "                #         corners = np.argwhere((harris > np.percentile(harris, 99.7)) & (harris < np.percentile(harris, 99.9)))\n",
    "                    \n",
    "                #         print(len(corners))\n",
    "                #         for y, x in corners:\n",
    "                #             cv2.circle(rgb_img, (x, y), 20, (255, 0, 255), -1)\n",
    "\n",
    "                #         plt.imshow(rgb_img)\n",
    "                #         plt.show()\n",
    "                        \n",
    "                # print(harris)"
   ]
  },
  {
   "attachments": {},
   "cell_type": "markdown",
   "metadata": {},
   "source": []
  }
 ],
 "metadata": {
  "kernelspec": {
   "display_name": "cs415",
   "language": "python",
   "name": "python3"
  },
  "language_info": {
   "codemirror_mode": {
    "name": "ipython",
    "version": 3
   },
   "file_extension": ".py",
   "mimetype": "text/x-python",
   "name": "python",
   "nbconvert_exporter": "python",
   "pygments_lexer": "ipython3",
   "version": "3.8.17"
  },
  "orig_nbformat": 4
 },
 "nbformat": 4,
 "nbformat_minor": 2
}
