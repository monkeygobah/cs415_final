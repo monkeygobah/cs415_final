{
 "cells": [
  {
   "attachments": {},
   "cell_type": "markdown",
   "metadata": {},
   "source": [
    "### load the clean data\n",
    "\n",
    "### straight clahe\n",
    "\n",
    "### build feature vectors\n",
    "\n",
    "### 1. SIFT keypoints\n",
    "\n",
    "#### 2. Moravec Corner Detection\n",
    "\n",
    "#### 3. Thresholding operation (try various thresholds)"
   ]
  },
  {
   "cell_type": "code",
   "execution_count": 1,
   "metadata": {},
   "outputs": [],
   "source": [
    "import cv2\n",
    "import numpy as np\n",
    "import matplotlib.pyplot as plt\n",
    "import pandas as pd\n",
    "import os\n"
   ]
  },
  {
   "attachments": {},
   "cell_type": "markdown",
   "metadata": {},
   "source": [
    "### Start with SIFT data and split into train and test set"
   ]
  },
  {
   "cell_type": "code",
   "execution_count": 2,
   "metadata": {},
   "outputs": [],
   "source": [
    "def determine_disease(filename):\n",
    "    '''\n",
    "    Check to see if image is TB or not.\n",
    "    Input: name of image (last str position is label)\n",
    "    Output: Boolean value of disease or not\n",
    "    '''\n",
    "    if filename[-4] == '1':\n",
    "        return True\n",
    "    else:\n",
    "        return False\n",
    "    \n",
    "# TODO: finetune these hyperparameters\n",
    "def increase_contrast(image, box_size=8, lim = 2):\n",
    "    '''\n",
    "    Increase contrast of image\n",
    "    Input: Image\n",
    "    Optional: box size and clip limit- can finetune these\n",
    "    Output: contrast increased image  \n",
    "    '''\n",
    "    clahe = cv2.createCLAHE(clipLimit=lim, tileGridSize=(box_size, box_size))\n",
    "    return clahe.apply(image)\n",
    "\n",
    "def sift_kp_des(image):\n",
    "    ''' \n",
    "    find sift keypoints and detection on an image\n",
    "    Input: Image\n",
    "    Output: sift kp and descriptors\n",
    "    '''\n",
    "    sift = cv2.SIFT_create()\n",
    "    return sift.detectAndCompute(image,None)\n",
    "\n",
    "# TODO: finetune these hyperparameters\n",
    "def harris_detection(image, blocksize = 2, ksize = 3, k = .04):\n",
    "    ''' \n",
    "    get HCD corners from image. Idea is to isolate the hilar trunk\n",
    "    input: image\n",
    "    Optional: hyperpatameters for HCD which can be finetuned\n",
    "    return: np array of detected corners\n",
    "    '''\n",
    "    return cv2.cornerHarris(image,blocksize,ksize,k)\n",
    "\n",
    "def threshold_image(image, min_val = 127, max_val=255):\n",
    "    '''\n",
    "    input: image\n",
    "    Optional: hyperpatameter pixel values for thresholding \n",
    "    return: count of white pixels normalized by image size\n",
    "    '''\n",
    "    _, thresh = cv2.threshold(image, min_val, max_val, cv2.THRESH_BINARY)\n",
    "    white_pixels = np.sum(thresh == max_val)\n",
    "    total_pixels = image.size\n",
    "    return white_pixels / total_pixels"
   ]
  },
  {
   "attachments": {},
   "cell_type": "markdown",
   "metadata": {},
   "source": [
    "### build data dictionary"
   ]
  },
  {
   "cell_type": "code",
   "execution_count": 3,
   "metadata": {},
   "outputs": [
    {
     "name": "stdout",
     "output_type": "stream",
     "text": [
      "CHNCXR_0492_1.png\n",
      "CHNCXR_0187_0.png\n",
      "CHNCXR_0342_1.png\n",
      "CHNCXR_0286_0.png\n",
      "CHNCXR_0022_0.png\n",
      "CHNCXR_0067_0.png\n",
      "CHNCXR_0572_1.png\n",
      "CHNCXR_0537_1.png\n",
      "CHNCXR_0323_0.png\n",
      "CHNCXR_0636_1.png\n",
      "CHNCXR_0147_0.png\n",
      "CHNCXR_0102_0.png\n",
      "CHNCXR_0417_1.png\n",
      "CHNCXR_0452_1.png\n",
      "CHNCXR_0246_0.png\n"
     ]
    }
   ],
   "source": [
    "path = '/Users/georgienahass/Desktop/fall_classes_PhD/CS415/cs415_final/clean_images'\n",
    "\n",
    "data_dict = {'0': {'sift': [], 'hcd': [], 'wp' : {'127': [], '150': [], '170': [], '200': []}}, \n",
    "             '1': {'sift': [], 'hcd': [], 'wp' : {'127': [], '150': [], '170': [], '200': []}}}\n",
    "i=0\n",
    "for root, dirs, files in os.walk(path):\n",
    "    for file in files:\n",
    "        if i < 20:\n",
    "            print(file)\n",
    "            if file.endswith('.png'):\n",
    "                image = cv2.imread(os.path.join(root, file), cv2.IMREAD_GRAYSCALE)\n",
    "            \n",
    "                # apply contrast to images\n",
    "                cont_image = increase_contrast(image)\n",
    "                \n",
    "                # detect Sift keypoints\n",
    "                kp, des = sift_kp_des(cont_image)\n",
    "                \n",
    "                #HCD\n",
    "                harris = harris_detection(cont_image, blocksize=20, ksize=11)\n",
    "                corners = np.argwhere((harris > np.percentile(harris, 99.7)) & (harris < np.percentile(harris, 99.9)))\n",
    "\n",
    "                # Thresholding\n",
    "                thresholds = [127, 150, 170, 200]\n",
    "                for threshold in thresholds:\n",
    "                    per_white = threshold_image(image, min_val=threshold)\n",
    "                    if determine_disease(file):\n",
    "                        data_dict['1']['wp'][str(threshold)].append(per_white)\n",
    "                    else:\n",
    "                        data_dict['0']['wp'][str(threshold)].append(per_white)\n",
    "                    \n",
    "                if determine_disease(file):\n",
    "                    data_dict['1']['sift'].append(des)\n",
    "                    data_dict['1']['hcd'].append(corners)\n",
    "\n",
    "                else:\n",
    "                    data_dict['0']['sift'].append(des)\n",
    "                    data_dict['0']['hcd'].append(corners)\n",
    "        \n",
    "                i+=1"
   ]
  },
  {
   "cell_type": "code",
   "execution_count": null,
   "metadata": {},
   "outputs": [],
   "source": []
  },
  {
   "cell_type": "code",
   "execution_count": null,
   "metadata": {},
   "outputs": [],
   "source": []
  },
  {
   "cell_type": "code",
   "execution_count": null,
   "metadata": {},
   "outputs": [],
   "source": []
  },
  {
   "cell_type": "code",
   "execution_count": null,
   "metadata": {},
   "outputs": [],
   "source": []
  },
  {
   "cell_type": "code",
   "execution_count": null,
   "metadata": {},
   "outputs": [],
   "source": []
  },
  {
   "cell_type": "code",
   "execution_count": null,
   "metadata": {},
   "outputs": [],
   "source": []
  },
  {
   "cell_type": "code",
   "execution_count": null,
   "metadata": {},
   "outputs": [],
   "source": [
    "                # HCD tuning\n",
    "                # blocks = [10, 15,20,30, 50]\n",
    "                # ks = [3,5,11,15,21]\n",
    "                # for bs in blocks:\n",
    "                #     for k_size in ks:            \n",
    "                #         print(bs, k_size)\n",
    "                #         harris = harris_detection(cont_image, blocksize=bs, ksize=k_size )\n",
    "                #         print(harris.nonzero())\n",
    "                #         # plot hcd on color image\n",
    "                #         rgb_img = cv2.cvtColor(cont_image,cv2.COLOR_GRAY2BGR)\n",
    "                #         # rgb_img[harris > 0.01 * harris.max()] = [0,0,255]\n",
    "                #         lower_percentile = np.percentile(harris, 99.7)   # Change 1 to your desired lower percentile\n",
    "                #         upper_percentile = np.percentile(harris, 99.9)  # Change 20 to your desired upper percentile\n",
    "\n",
    "                #         # Find coordinates of strong corners\n",
    "                #         corners = np.argwhere((harris > np.percentile(harris, 99.7)) & (harris < np.percentile(harris, 99.9)))\n",
    "                    \n",
    "                #         print(len(corners))\n",
    "                #         for y, x in corners:\n",
    "                #             cv2.circle(rgb_img, (x, y), 20, (255, 0, 255), -1)\n",
    "\n",
    "                #         plt.imshow(rgb_img)\n",
    "                #         plt.show()\n",
    "                        \n",
    "                # print(harris)"
   ]
  },
  {
   "attachments": {},
   "cell_type": "markdown",
   "metadata": {},
   "source": []
  }
 ],
 "metadata": {
  "kernelspec": {
   "display_name": "cs415",
   "language": "python",
   "name": "python3"
  },
  "language_info": {
   "codemirror_mode": {
    "name": "ipython",
    "version": 3
   },
   "file_extension": ".py",
   "mimetype": "text/x-python",
   "name": "python",
   "nbconvert_exporter": "python",
   "pygments_lexer": "ipython3",
   "version": "3.8.17"
  },
  "orig_nbformat": 4
 },
 "nbformat": 4,
 "nbformat_minor": 2
}
