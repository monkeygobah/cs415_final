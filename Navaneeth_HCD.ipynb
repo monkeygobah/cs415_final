{
 "cells": [
  {
   "cell_type": "code",
   "execution_count": 25,
   "id": "c94804f4-4791-4238-910f-2bb5e8c2fe4f",
   "metadata": {},
   "outputs": [],
   "source": [
    "import os\n",
    "import cv2\n",
    "import numpy as np\n",
    "from sklearn.svm import SVC\n",
    "from sklearn.model_selection import train_test_split\n",
    "from sklearn.metrics import accuracy_score\n",
    "from sklearn.metrics import accuracy_score,precision_score,recall_score,roc_auc_score,confusion_matrix\n"
   ]
  },
  {
   "cell_type": "code",
   "execution_count": 6,
   "id": "9749a11f-adae-4243-87de-dcc23cc0a725",
   "metadata": {},
   "outputs": [],
   "source": [
    "images_dir = \"archive/ChinaSet_AllFiles/ChinaSet_AllFiles/CXR_png/\"\n",
    "images =  os.listdir(images_dir)\n",
    "labels = [i[:-4][-1] for i in images]\n",
    "labels = [0  if i==\"0\" else 1 for i in labels]"
   ]
  },
  {
   "cell_type": "code",
   "execution_count": 9,
   "id": "6c098507-3052-4386-9bc0-4e54a1c3cde2",
   "metadata": {},
   "outputs": [],
   "source": [
    "features = []\n",
    "labelsY = []\n",
    "\n",
    "for i in range(len(images)):\n",
    "    try:\n",
    "        image = cv2.imread(images_dir+images[i], cv2.IMREAD_GRAYSCALE)\n",
    "\n",
    "        image = cv2.resize(image, (800, 800), interpolation = cv2.INTER_LINEAR)\n",
    "\n",
    "        # Harris Corner Detection\n",
    "        dst = cv2.cornerHarris(image, blockSize=2, ksize=3, k=0.04)\n",
    "        dst = cv2.dilate(dst, None)  # Dilate to make corners more visible\n",
    "\n",
    "        # Threshold for an optimal value, it may vary depending on the image\n",
    "        image[dst > 0.01 * dst.max()] = 255\n",
    "\n",
    "        # ORB (Oriented FAST and Rotated BRIEF) for feature description\n",
    "        orb = cv2.ORB_create()\n",
    "        keypoints, descriptors = orb.detectAndCompute(image, None)\n",
    "\n",
    "        # Draw the keypoints on the image\n",
    "        result_image = cv2.drawKeypoints(image, keypoints, None, color=(0, 255, 0), flags=0)\n",
    "\n",
    "        feat = np.sum(descriptors, axis=0)/descriptors.shape[0]\n",
    "\n",
    "        features.append(feat)\n",
    "        labelsY.append(labels[i])\n",
    "    except:\n",
    "        continue"
   ]
  },
  {
   "cell_type": "code",
   "execution_count": 10,
   "id": "9c7baecd-abf1-442e-a12f-4e09b409907a",
   "metadata": {},
   "outputs": [
    {
     "data": {
      "text/plain": [
       "(662, 32)"
      ]
     },
     "execution_count": 10,
     "metadata": {},
     "output_type": "execute_result"
    }
   ],
   "source": [
    "features = np.array(features)\n",
    "features.shape"
   ]
  },
  {
   "cell_type": "code",
   "execution_count": 30,
   "id": "c03189ed-e713-483f-8177-a7c7cb12d967",
   "metadata": {},
   "outputs": [
    {
     "name": "stdout",
     "output_type": "stream",
     "text": [
      "Accuracy: 0.706766917293233\n"
     ]
    }
   ],
   "source": [
    "X_train, X_test, y_train, y_test = train_test_split(features, labelsY, test_size=0.2, random_state=42)\n",
    "\n",
    "# Train a classifier (SVM in this case)\n",
    "classifier = SVC(probability=True)\n",
    "classifier.fit(X_train, y_train)\n",
    "\n",
    "# Make predictions\n",
    "y_pred = classifier.predict(X_test)\n",
    "\n",
    "# Evaluate accuracy\n",
    "accuracy = accuracy_score(y_test, y_pred)\n",
    "print(\"Accuracy:\", accuracy)"
   ]
  },
  {
   "cell_type": "code",
   "execution_count": 31,
   "id": "f6cdf4f9-6a34-4bf3-aa82-0563e2bc32c0",
   "metadata": {},
   "outputs": [
    {
     "data": {
      "text/plain": [
       "0.7448015122873346"
      ]
     },
     "execution_count": 31,
     "metadata": {},
     "output_type": "execute_result"
    }
   ],
   "source": [
    "accuracy_score(y_train, classifier.predict(X_train))"
   ]
  },
  {
   "cell_type": "code",
   "execution_count": 32,
   "id": "ad03762d-34a9-40b0-9f3c-5dd1fdb699d3",
   "metadata": {},
   "outputs": [],
   "source": [
    "scores = []"
   ]
  },
  {
   "cell_type": "code",
   "execution_count": 33,
   "id": "44b7bfe0-0880-4b8f-b21b-68f5d1bce32b",
   "metadata": {},
   "outputs": [
    {
     "data": {
      "text/plain": [
       "(0.706766917293233,\n",
       " 0.6395348837209303,\n",
       " 0.873015873015873,\n",
       " 0.78140589569161,\n",
       " 0.5571428571428572)"
      ]
     },
     "execution_count": 33,
     "metadata": {},
     "output_type": "execute_result"
    }
   ],
   "source": [
    "\n",
    "accuracy = accuracy_score(y_test, y_pred)\n",
    "\n",
    "precision = precision_score(y_test, y_pred)\n",
    "\n",
    "recall = recall_score(y_test, y_pred)\n",
    "\n",
    "auc_roc = roc_auc_score(y_test, classifier.predict_proba(X_test)[:,1])\n",
    "\n",
    "tn, fp, fn, tp = confusion_matrix(y_test, y_pred).ravel()\n",
    "specificity = tn / (tn + fp)\n",
    "scores.append([accuracy,precision,recall,auc_roc,specificity])\n",
    "accuracy,precision,recall,auc_roc,specificity"
   ]
  },
  {
   "cell_type": "code",
   "execution_count": 34,
   "id": "ecf67307-a074-4d30-b0d0-634e76f19413",
   "metadata": {},
   "outputs": [
    {
     "data": {
      "text/plain": [
       "(0.7368421052631579,\n",
       " 0.6666666666666666,\n",
       " 0.8888888888888888,\n",
       " 0.7979591836734694,\n",
       " 0.6)"
      ]
     },
     "execution_count": 34,
     "metadata": {},
     "output_type": "execute_result"
    }
   ],
   "source": [
    "from sklearn.naive_bayes import GaussianNB\n",
    "naive_bayes_classifier = GaussianNB()\n",
    "\n",
    "# Train the classifier on the training data\n",
    "naive_bayes_classifier.fit(X_train, y_train)\n",
    "y_pred = naive_bayes_classifier.predict(X_test)\n",
    "accuracy = accuracy_score(y_test, y_pred)\n",
    "\n",
    "precision = precision_score(y_test, y_pred)\n",
    "\n",
    "recall = recall_score(y_test, y_pred)\n",
    "\n",
    "auc_roc = roc_auc_score(y_test, naive_bayes_classifier.predict_proba(X_test)[:,1])\n",
    "\n",
    "tn, fp, fn, tp = confusion_matrix(y_test, y_pred).ravel()\n",
    "specificity = tn / (tn + fp)\n",
    "scores.append([accuracy,precision,recall,auc_roc,specificity])\n",
    "\n",
    "accuracy,precision,recall,auc_roc,specificity"
   ]
  },
  {
   "cell_type": "code",
   "execution_count": 35,
   "id": "dead3aa5-4475-404d-b8dd-0d07a4ef2b35",
   "metadata": {},
   "outputs": [
    {
     "data": {
      "text/plain": [
       "(0.6842105263157895,\n",
       " 0.6265060240963856,\n",
       " 0.8253968253968254,\n",
       " 0.7396825396825397,\n",
       " 0.5571428571428572)"
      ]
     },
     "execution_count": 35,
     "metadata": {},
     "output_type": "execute_result"
    }
   ],
   "source": [
    "from sklearn.linear_model import LogisticRegression\n",
    "\n",
    "logreg_classifier = LogisticRegression(max_iter=300,random_state=42)\n",
    "\n",
    "# Train the classifier on the training data\n",
    "logreg_classifier.fit(X_train, y_train)\n",
    "\n",
    "# Make predictions on the testing data\n",
    "y_pred = logreg_classifier.predict(X_test)\n",
    "\n",
    "accuracy = accuracy_score(y_test, y_pred)\n",
    "\n",
    "precision = precision_score(y_test, y_pred)\n",
    "\n",
    "recall = recall_score(y_test, y_pred)\n",
    "\n",
    "auc_roc = roc_auc_score(y_test, logreg_classifier.predict_proba(X_test)[:,1])\n",
    "\n",
    "tn, fp, fn, tp = confusion_matrix(y_test, y_pred).ravel()\n",
    "specificity = tn / (tn + fp)\n",
    "scores.append([accuracy,precision,recall,auc_roc,specificity])\n",
    "\n",
    "accuracy,precision,recall,auc_roc,specificity"
   ]
  },
  {
   "cell_type": "code",
   "execution_count": 58,
   "id": "868eb10f-72c5-4e2d-872c-46f51ca7f2ed",
   "metadata": {},
   "outputs": [],
   "source": [
    "scores = [[value * 100 for value in row] for row in scores]"
   ]
  },
  {
   "cell_type": "code",
   "execution_count": 65,
   "id": "33275a77-efbc-47ca-ac49-25e2e8c26916",
   "metadata": {},
   "outputs": [
    {
     "data": {
      "image/png": "[encoded data removed]",
      "text/plain": [
       "<Figure size 432x288 with 1 Axes>"
      ]
     },
     "metadata": {
      "needs_background": "light"
     },
     "output_type": "display_data"
    }
   ],
   "source": [
    "# data from https://allisonhorst.github.io/palmerpenguins/\n",
    "\n",
    "import matplotlib.pyplot as plt\n",
    "import numpy as np\n",
    "\n",
    "models = (\"SVM\", \"NB\", \"LR\")\n",
    "model_scores = {\n",
    "    'Accuracy': tuple(np.array(scores)[:, 0]),\n",
    "    'Precision': tuple(np.array(scores)[:, 1]), \n",
    "    'Recall': tuple(np.array(scores)[:, 2]),\n",
    "    'AUC_ROC': tuple(np.array(scores)[:, 3]),\n",
    "    'Specificity': tuple(np.array(scores)[:, 4])\n",
    "}\n",
    "\n",
    "x = np.arange(len(species))  # the label locations\n",
    "width = 0.15  # the width of the bars\n",
    "multiplier = 0\n",
    "\n",
    "fig, ax = plt.subplots(layout='constrained')\n",
    "\n",
    "for attribute, measurement in model_scores.items():\n",
    "    offset = width * multiplier\n",
    "    rects = ax.bar(x + offset, measurement, width, label=attribute)\n",
    "    #ax.bar_label(rects, padding=3)\n",
    "    multiplier += 1\n",
    "\n",
    "# Add some text for labels, title and custom x-axis tick labels, etc.\n",
    "ax.set_ylabel('Scores')\n",
    "ax.set_title('Classification with Harris Detector')\n",
    "ax.set_xticks(x + width, models)\n",
    "ax.legend(loc='lower left')\n",
    "ax.set_ylim(0, 100)\n",
    "\n",
    "plt.show()"
   ]
  },
  {
   "cell_type": "code",
   "execution_count": null,
   "id": "e958542a-ddc7-4dd5-bba4-b79bfcc64a00",
   "metadata": {},
   "outputs": [],
   "source": []
  }
 ],
 "metadata": {
  "kernelspec": {
   "display_name": "Python 3 (ipykernel)",
   "language": "python",
   "name": "python3"
  },
  "language_info": {
   "codemirror_mode": {
    "name": "ipython",
    "version": 3
   },
   "file_extension": ".py",
   "mimetype": "text/x-python",
   "name": "python",
   "nbconvert_exporter": "python",
   "pygments_lexer": "ipython3",
   "version": "3.9.12"
  }
 },
 "nbformat": 4,
 "nbformat_minor": 5
}
